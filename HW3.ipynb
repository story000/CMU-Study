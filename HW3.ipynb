{
 "cells": [
  {
   "cell_type": "markdown",
   "metadata": {},
   "source": [
    "# Data Focused Python  \n",
    "# HW3  \n",
    "\n",
    "Name:  Siyuan Liu\n",
    "Andrew ID:  sliu5\n",
    "Date:  09.14.2024\n",
    "\n",
    "# INSTRUCTIONS  \n",
    "Be sure to include the correct information in the first markdown cell (above).  \n",
    "Enter your answers into the cells below.  \n",
    "Save the file when you have answered all the questions.  \n",
    "Uncomment the last cell and run it to save an html file.  \n",
    "Append your Andrew ID to the html file.  \n",
    "Submit the final html file.  \n",
    "\n",
    "Each question is worth 2 points.  "
   ]
  },
  {
   "cell_type": "code",
   "execution_count": 1,
   "metadata": {},
   "outputs": [
    {
     "name": "stdout",
     "output_type": "stream",
     "text": [
      "A\n",
      "F\n",
      "C\n"
     ]
    }
   ],
   "source": [
    "# Question 1  \n",
    "# Write a Python function called grade_classifier with if, elif and else statements that takes an integer as an argument and returns a string based on the following conditions:\n",
    "\n",
    "# If the score is 90 or above, the grade is “A”.\n",
    "# If the score is 80 to 89, the grade is “B”.\n",
    "# If the score is 70 to 79, the grade is “C”.\n",
    "# If the score is 60 to 69, the grade is “D”.\n",
    "# If the score is below 60, the grade is “F”.\n",
    "\n",
    "def grade_classifier(score):\n",
    "    if score >= 90:\n",
    "        return \"A\"\n",
    "    elif score >= 80:\n",
    "        return \"B\"\n",
    "    elif score >= 70:\n",
    "        return \"C\"\n",
    "    elif score >= 60:\n",
    "        return \"D\"\n",
    "    else:\n",
    "        return \"F\"\n",
    "\n",
    "# test your function on the following values:\n",
    "# (a) 91\n",
    "# (b) 55\n",
    "# (c) 71\n",
    "print(grade_classifier(91))\n",
    "print(grade_classifier(55))\n",
    "print(grade_classifier(71))"
   ]
  },
  {
   "cell_type": "code",
   "execution_count": 2,
   "metadata": {},
   "outputs": [
    {
     "name": "stdout",
     "output_type": "stream",
     "text": [
      "602\n",
      "6672\n",
      "3172\n"
     ]
    }
   ],
   "source": [
    "# Question 2  \n",
    "# Write a Python function called sum_even_list that takes a list of integers and returns the sum of only the even integers in the list (ignore any odd values). Use a for loop to iterate through the list. \n",
    "def sum_even_list(lst):\n",
    "    sum = 0\n",
    "    for num in lst:\n",
    "        if num % 2 == 0:\n",
    "            sum += num\n",
    "    return sum\n",
    "\n",
    "# Test your function on these lists:\n",
    "print(sum_even_list([15, 117, 308, 31, 16, 104, 18, 19, 126, 21, 30]))\n",
    "print(sum_even_list([266, 296, 302, 230, 284, 338, 272, 218, 212, 248, 254, 314, 320, 290, 308, 206, 242, 224, 332, 278, 202, 326, 236, 244, 230]))\n",
    "print(sum_even_list([177, 503, 619, 731, 621, 759, 723, 651, 229, 489, 543, 725, 177, 263, 573, 319, 383, 457, 113, 639, 117, 595, 561, 149, 239, 139, 173, 333, 121, 101, 589, 141, 475, 649, 527, 775, 645, 671, 785, 471, 157, 763, 223, 531, 709, 797, 577, 563, 505, 179, 265, 337, 303, 487, 383, 569, 397, 419, 749, 461, 525, 107, 171, 191, 141, 685, 115, 153, 135, 681, 275, 497, 251, 487, 189, 553, 445, 151, 345, 791, 543, 795, 441, 725, 111, 301, 543, 779, 163, 107, 645, 155, 785, 776, 314, 446, 622, 604, 198, 212]))"
   ]
  },
  {
   "cell_type": "code",
   "execution_count": 6,
   "metadata": {},
   "outputs": [
    {
     "data": {
      "text/plain": [
       "(105, 14)"
      ]
     },
     "execution_count": 6,
     "metadata": {},
     "output_type": "execute_result"
    }
   ],
   "source": [
    "# Question 3   \n",
    "# Write a Python function sum_until_limit(limit) that uses a while loop to add consecutive integers starting from 1 until the sum reaches or exceeds the specified limit. The function should return the sum AND the number of integers added.\n",
    "def sum_until_limit(limit):\n",
    "    sum = 0\n",
    "    i = 0\n",
    "    while sum < limit:\n",
    "        i += 1\n",
    "        sum += i\n",
    "    return sum, i\n",
    "\n",
    "sum_until_limit(100)"
   ]
  },
  {
   "cell_type": "code",
   "execution_count": 10,
   "metadata": {},
   "outputs": [
    {
     "name": "stdout",
     "output_type": "stream",
     "text": [
      "None\n",
      "308\n",
      "338\n",
      "797\n"
     ]
    }
   ],
   "source": [
    "# Question 4  \n",
    "# Implement a Python function find_max(*args) that takes any number of numerical arguments and returns the maximum value. If no arguments are provided, the function should return None.\n",
    "def find_max(*args):\n",
    "    if len(args) == 0:\n",
    "        return None\n",
    "    \n",
    "    max = args[0]\n",
    "    for num in args:\n",
    "        if num > max:\n",
    "            max = num\n",
    "            \n",
    "    return max\n",
    "# Test your functions on the values in lists above - do not pass the function the list, however, you will need to copy the values from the list as this *args function accepts an unspecified number of arguments.\n",
    "print(find_max())\n",
    "print(find_max(15, 117, 308, 31, 16, 104, 18, 19, 126, 21, 30))\n",
    "print(find_max(266, 296, 302, 230, 284, 338, 272, 218, 212, 248, 254, 314, 320, 290, 308, 206, 242, 224, 332, 278, 202, 326, 236, 244, 230))\n",
    "print(find_max(177, 503, 619, 731, 621, 759, 723, 651, 229, 489, 543, 725, 177, 263, 573, 319, 383, 457, 113, 639, 117, 595, 561, 149, 239, 139, 173, 333, 121, 101, 589, 141, 475, 649, 527, 775, 645, 671, 785, 471, 157, 763, 223, 531, 709, 797, 577, 563, 505, 179, 265, 337, 303, 487, 383, 569, 397, 419, 749, 461, 525, 107, 171, 191, 141, 685, 115, 153, 135, 681, 275, 497, 251, 487, 189, 553, 445, 151, 345, 791, 543, 795, 441, 725, 111, 301, 543, 779, 163, 107, 645, 155, 785, 776, 314, 446, 622, 604, 198, 212))"
   ]
  },
  {
   "cell_type": "code",
   "execution_count": 1,
   "metadata": {},
   "outputs": [
    {
     "name": "stderr",
     "output_type": "stream",
     "text": [
      "/Users/liusiyuan/opt/anaconda3/lib/python3.9/site-packages/pandas/core/arrays/masked.py:60: UserWarning: Pandas requires version '1.3.6' or newer of 'bottleneck' (version '1.3.2' currently installed).\n",
      "  from pandas.core import (\n"
     ]
    },
    {
     "name": "stdout",
     "output_type": "stream",
     "text": [
      "115\n"
     ]
    }
   ],
   "source": [
    "# Question 5  \n",
    "# Read in the diamonds dataset and write a lambda function to create a new column called \"check\" that has a value of 1 when the cut is \"Ideal\" and the color is \"E\" but is 0 otherwise. Count the number of 1s in this new check column\n",
    "import pandas as pd\n",
    "\n",
    "diamonds = pd.read_csv('diamonds.csv')\n",
    "diamonds['check'] = diamonds.apply(lambda x: 1 if x['cut'] == 'Ideal' and x['color'] == 'E' else 0, axis=1)\n",
    "print(diamonds['check'].sum())"
   ]
  },
  {
   "cell_type": "code",
   "execution_count": 2,
   "metadata": {},
   "outputs": [
    {
     "name": "stdout",
     "output_type": "stream",
     "text": [
      "[NbConvertApp] Converting notebook HW3.ipynb to html\n",
      "[NbConvertApp] Writing 298759 bytes to HW3.html\n"
     ]
    }
   ],
   "source": [
    "# export notebook results to html\n",
    "!jupyter nbconvert --to html HW3.ipynb"
   ]
  },
  {
   "cell_type": "code",
   "execution_count": null,
   "metadata": {},
   "outputs": [],
   "source": []
  }
 ],
 "metadata": {
  "kernelspec": {
   "display_name": "base",
   "language": "python",
   "name": "python3"
  },
  "language_info": {
   "codemirror_mode": {
    "name": "ipython",
    "version": 3
   },
   "file_extension": ".py",
   "mimetype": "text/x-python",
   "name": "python",
   "nbconvert_exporter": "python",
   "pygments_lexer": "ipython3",
   "version": "3.9.7"
  }
 },
 "nbformat": 4,
 "nbformat_minor": 2
}
