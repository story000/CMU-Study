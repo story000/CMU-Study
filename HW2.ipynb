{
 "cells": [
  {
   "cell_type": "markdown",
   "metadata": {},
   "source": [
    "# Data Focused Python  \n",
    "# HW2  \n",
    "\n",
    "Name:  Siyuan Liu\n",
    "Andrew ID:  sliu5\n",
    "Date:  09/05/2024\n",
    "\n",
    "# INSTRUCTIONS  \n",
    "Be sure to include the correct information in the first markdown cell (above).  \n",
    "Enter your answers into the cells below.  \n",
    "Save the file when you have answered all the questions.  \n",
    "Uncomment the last cell and run it to save an html file.  \n",
    "Append your Andrew ID to the html file.  \n",
    "Submit the final html file.  "
   ]
  },
  {
   "cell_type": "code",
   "execution_count": 15,
   "metadata": {},
   "outputs": [
    {
     "data": {
      "text/plain": [
       "[1.094, 3.14, 2.718, 1.618, 0.577, 4.669, 1.414]"
      ]
     },
     "execution_count": 15,
     "metadata": {},
     "output_type": "execute_result"
    }
   ],
   "source": [
    "# Question 1  \n",
    "# Add a the value 1.094 at the start of list1\n",
    "\n",
    "list1 = [3.14, 2.718, 1.618, 0.577, 4.669, 1.414]\n",
    "list1.insert(0,1.094)\n",
    "list1"
   ]
  },
  {
   "cell_type": "code",
   "execution_count": 16,
   "metadata": {},
   "outputs": [
    {
     "data": {
      "text/plain": [
       "'home'"
      ]
     },
     "execution_count": 16,
     "metadata": {},
     "output_type": "execute_result"
    }
   ],
   "source": [
    "# Question 2  \n",
    "# Access and return the 6th element of t1 which has 8 items\n",
    "\n",
    "t1 = (10, 20, 30, 40, 50, 'home', 1.2578, True)\n",
    "\n",
    "t1[5]"
   ]
  },
  {
   "cell_type": "code",
   "execution_count": 17,
   "metadata": {},
   "outputs": [
    {
     "name": "stdout",
     "output_type": "stream",
     "text": [
      "Length of set1: 26\n",
      "Length of set1: 26\n",
      "{1.25, 'blackberry', 'strawberry', 'cranberry', 'fig', 'zucchini', 'lemon', 'kiwi', 'date', 'mango', (1, 2, 3), 'tomato', 'watermelon', 'raspberry', 'elderberry', 'blueberry', 'quince', 'nectarine'}\n"
     ]
    }
   ],
   "source": [
    "# Question 3 \n",
    "# Two sets are defined below\n",
    "# (a) return the lengths of both sets\n",
    "# (b) return the intersection of the sets\n",
    "\n",
    "set1 = {\n",
    "    \"apple\", \"banana\", \"cherry\", (1, 2, 3), (3, 4), 42, 1.25, \"grape\", \"kiwi\", \"lemon\",\n",
    "    \"mango\", \"nectarine\", \"orange\", \"pear\", \"quince\", \"raspberry\", \"strawberry\", \"tomato\", \n",
    "    \"watermelon\", \"zucchini\", \"blueberry\", \"blackberry\", \"cranberry\", \"date\", \"elderberry\",\n",
    "     \"fig\"\n",
    "}\n",
    "\n",
    "set2 = {\n",
    "    \"kiwi\", \"lemon\", \"mango\", (1, 2, 3), \"blueberry\", \"blackberry\", \"cranberry\", \"date\", \"elderberry\", \n",
    "    \"fig\", \"grapefruit\", \"honeydew\", \"jackfruit\", \"kumquat\", \"lime\", \"melon\", \"nectarine\", \"olive\", \"papaya\", \"quince\", \"raspberry\", \"strawberry\", \"tomato\", \"watermelon\", \"zucchini\", 1.25\n",
    "}\n",
    "\n",
    "# code for part (a)\n",
    "print(\"Length of set1:\", len(set1))\n",
    "print(\"Length of set1:\", len(set2))\n",
    "\n",
    "# code for part (b)\n",
    "print(set1.intersection(set2))"
   ]
  },
  {
   "cell_type": "code",
   "execution_count": 18,
   "metadata": {},
   "outputs": [],
   "source": [
    "# Question 4  \n",
    "# create a dictionary called book_dict with 5 key value pairs \n",
    "# where the keys are author names\n",
    "# and the values are a book title\n",
    "# use your favorite books, or classics\n",
    "# or make up names and titles\n",
    "\n",
    "book_dict = {\"JK\":\"Harry Potter\",\n",
    "             \"RF\":\"Babel\",\n",
    "             \"SN\":\"The Cat Who Saved Books\",\n",
    "             \"LA\":\"Broken Money\",\n",
    "             \"CCB\":\"Payments Systems\"}"
   ]
  },
  {
   "cell_type": "code",
   "execution_count": 19,
   "metadata": {},
   "outputs": [
    {
     "data": {
      "text/plain": [
       "['CCB', 'JK', 'LA', 'RF', 'SN']"
      ]
     },
     "execution_count": 19,
     "metadata": {},
     "output_type": "execute_result"
    }
   ],
   "source": [
    "# Question 5  \n",
    "# return an alphabetically sorted list of author names in book_dict only using code\n",
    "sorted(book_dict.keys())"
   ]
  },
  {
   "cell_type": "code",
   "execution_count": 20,
   "metadata": {},
   "outputs": [],
   "source": [
    "# Question 6  \n",
    "# make a list called rand_int of 100 random integers bewtween 1 and 100 using the numpy module\n",
    "# DO NOT change the value of the seed() function called here\n",
    "import numpy as np\n",
    "np.random.seed(824)\n",
    "\n",
    "rand_int = [np.random.randint(1,100) for i in range(100)]"
   ]
  },
  {
   "cell_type": "code",
   "execution_count": 21,
   "metadata": {},
   "outputs": [
    {
     "name": "stdout",
     "output_type": "stream",
     "text": [
      "Min Value: 1\n",
      "Max Value: 98\n",
      "Median Value: 52.5\n"
     ]
    }
   ],
   "source": [
    "# Question 7   \n",
    "# using numpy, return (a) the minimum value\n",
    "# (b) the maximum value and\n",
    "# (c) the median value of your rand_int variable\n",
    "\n",
    "# (a)\n",
    "print(\"Min Value:\", np.min(rand_int))\n",
    "\n",
    "# (b)\n",
    "print(\"Max Value:\", np.max(rand_int))\n",
    "\n",
    "# (c)\n",
    "print(\"Median Value:\", np.median(rand_int))"
   ]
  },
  {
   "cell_type": "code",
   "execution_count": 22,
   "metadata": {},
   "outputs": [
    {
     "data": {
      "text/plain": [
       "array([[1., 1., 1., 1., 1., 1.],\n",
       "       [1., 1., 1., 1., 1., 1.],\n",
       "       [1., 1., 1., 1., 1., 1.],\n",
       "       [1., 1., 1., 1., 1., 1.],\n",
       "       [1., 1., 1., 1., 1., 1.]])"
      ]
     },
     "execution_count": 22,
     "metadata": {},
     "output_type": "execute_result"
    }
   ],
   "source": [
    "# Question 8   \n",
    "# create a 5 row 6 column matrix of 1s using numpy\n",
    "ones_df = np.ones((5,6))\n",
    "ones_df "
   ]
  },
  {
   "cell_type": "code",
   "execution_count": 23,
   "metadata": {},
   "outputs": [],
   "source": [
    "# Question 9  \n",
    "# use pandas to open the csv file 'diamonds.csv'\n",
    "import pandas as pd\n",
    "diamonds_df = pd.read_csv('diamonds.csv')"
   ]
  },
  {
   "cell_type": "code",
   "execution_count": 24,
   "metadata": {},
   "outputs": [
    {
     "data": {
      "text/html": [
       "<div>\n",
       "<style scoped>\n",
       "    .dataframe tbody tr th:only-of-type {\n",
       "        vertical-align: middle;\n",
       "    }\n",
       "\n",
       "    .dataframe tbody tr th {\n",
       "        vertical-align: top;\n",
       "    }\n",
       "\n",
       "    .dataframe thead th {\n",
       "        text-align: right;\n",
       "    }\n",
       "</style>\n",
       "<table border=\"1\" class=\"dataframe\">\n",
       "  <thead>\n",
       "    <tr style=\"text-align: right;\">\n",
       "      <th></th>\n",
       "      <th>carat</th>\n",
       "      <th>cut</th>\n",
       "      <th>color</th>\n",
       "      <th>clarity</th>\n",
       "      <th>depth</th>\n",
       "      <th>table</th>\n",
       "      <th>price</th>\n",
       "      <th>x</th>\n",
       "      <th>y</th>\n",
       "      <th>z</th>\n",
       "    </tr>\n",
       "  </thead>\n",
       "  <tbody>\n",
       "    <tr>\n",
       "      <th>0</th>\n",
       "      <td>False</td>\n",
       "      <td>False</td>\n",
       "      <td>False</td>\n",
       "      <td>False</td>\n",
       "      <td>False</td>\n",
       "      <td>False</td>\n",
       "      <td>False</td>\n",
       "      <td>False</td>\n",
       "      <td>False</td>\n",
       "      <td>False</td>\n",
       "    </tr>\n",
       "    <tr>\n",
       "      <th>1</th>\n",
       "      <td>False</td>\n",
       "      <td>False</td>\n",
       "      <td>False</td>\n",
       "      <td>False</td>\n",
       "      <td>False</td>\n",
       "      <td>False</td>\n",
       "      <td>False</td>\n",
       "      <td>False</td>\n",
       "      <td>False</td>\n",
       "      <td>False</td>\n",
       "    </tr>\n",
       "    <tr>\n",
       "      <th>2</th>\n",
       "      <td>False</td>\n",
       "      <td>False</td>\n",
       "      <td>False</td>\n",
       "      <td>False</td>\n",
       "      <td>False</td>\n",
       "      <td>False</td>\n",
       "      <td>False</td>\n",
       "      <td>False</td>\n",
       "      <td>False</td>\n",
       "      <td>False</td>\n",
       "    </tr>\n",
       "    <tr>\n",
       "      <th>3</th>\n",
       "      <td>False</td>\n",
       "      <td>False</td>\n",
       "      <td>False</td>\n",
       "      <td>False</td>\n",
       "      <td>False</td>\n",
       "      <td>False</td>\n",
       "      <td>False</td>\n",
       "      <td>False</td>\n",
       "      <td>False</td>\n",
       "      <td>False</td>\n",
       "    </tr>\n",
       "    <tr>\n",
       "      <th>4</th>\n",
       "      <td>False</td>\n",
       "      <td>False</td>\n",
       "      <td>False</td>\n",
       "      <td>False</td>\n",
       "      <td>False</td>\n",
       "      <td>False</td>\n",
       "      <td>False</td>\n",
       "      <td>False</td>\n",
       "      <td>False</td>\n",
       "      <td>False</td>\n",
       "    </tr>\n",
       "    <tr>\n",
       "      <th>...</th>\n",
       "      <td>...</td>\n",
       "      <td>...</td>\n",
       "      <td>...</td>\n",
       "      <td>...</td>\n",
       "      <td>...</td>\n",
       "      <td>...</td>\n",
       "      <td>...</td>\n",
       "      <td>...</td>\n",
       "      <td>...</td>\n",
       "      <td>...</td>\n",
       "    </tr>\n",
       "    <tr>\n",
       "      <th>1494</th>\n",
       "      <td>False</td>\n",
       "      <td>False</td>\n",
       "      <td>False</td>\n",
       "      <td>False</td>\n",
       "      <td>False</td>\n",
       "      <td>False</td>\n",
       "      <td>False</td>\n",
       "      <td>False</td>\n",
       "      <td>False</td>\n",
       "      <td>False</td>\n",
       "    </tr>\n",
       "    <tr>\n",
       "      <th>1495</th>\n",
       "      <td>False</td>\n",
       "      <td>False</td>\n",
       "      <td>False</td>\n",
       "      <td>False</td>\n",
       "      <td>False</td>\n",
       "      <td>False</td>\n",
       "      <td>False</td>\n",
       "      <td>False</td>\n",
       "      <td>False</td>\n",
       "      <td>False</td>\n",
       "    </tr>\n",
       "    <tr>\n",
       "      <th>1496</th>\n",
       "      <td>False</td>\n",
       "      <td>False</td>\n",
       "      <td>False</td>\n",
       "      <td>False</td>\n",
       "      <td>False</td>\n",
       "      <td>False</td>\n",
       "      <td>False</td>\n",
       "      <td>False</td>\n",
       "      <td>False</td>\n",
       "      <td>False</td>\n",
       "    </tr>\n",
       "    <tr>\n",
       "      <th>1497</th>\n",
       "      <td>False</td>\n",
       "      <td>False</td>\n",
       "      <td>False</td>\n",
       "      <td>False</td>\n",
       "      <td>False</td>\n",
       "      <td>False</td>\n",
       "      <td>False</td>\n",
       "      <td>False</td>\n",
       "      <td>False</td>\n",
       "      <td>False</td>\n",
       "    </tr>\n",
       "    <tr>\n",
       "      <th>1498</th>\n",
       "      <td>False</td>\n",
       "      <td>False</td>\n",
       "      <td>False</td>\n",
       "      <td>False</td>\n",
       "      <td>False</td>\n",
       "      <td>False</td>\n",
       "      <td>False</td>\n",
       "      <td>False</td>\n",
       "      <td>False</td>\n",
       "      <td>False</td>\n",
       "    </tr>\n",
       "  </tbody>\n",
       "</table>\n",
       "<p>1499 rows × 10 columns</p>\n",
       "</div>"
      ],
      "text/plain": [
       "      carat    cut  color  clarity  depth  table  price      x      y      z\n",
       "0     False  False  False    False  False  False  False  False  False  False\n",
       "1     False  False  False    False  False  False  False  False  False  False\n",
       "2     False  False  False    False  False  False  False  False  False  False\n",
       "3     False  False  False    False  False  False  False  False  False  False\n",
       "4     False  False  False    False  False  False  False  False  False  False\n",
       "...     ...    ...    ...      ...    ...    ...    ...    ...    ...    ...\n",
       "1494  False  False  False    False  False  False  False  False  False  False\n",
       "1495  False  False  False    False  False  False  False  False  False  False\n",
       "1496  False  False  False    False  False  False  False  False  False  False\n",
       "1497  False  False  False    False  False  False  False  False  False  False\n",
       "1498  False  False  False    False  False  False  False  False  False  False\n",
       "\n",
       "[1499 rows x 10 columns]"
      ]
     },
     "execution_count": 24,
     "metadata": {},
     "output_type": "execute_result"
    }
   ],
   "source": [
    "# Question 10  \n",
    "# check for missing values in each of the columns\n",
    "# HINT - there are missing values\n",
    "\n",
    "missing_values = diamonds_df.isnull()\n",
    "missing_values"
   ]
  },
  {
   "cell_type": "code",
   "execution_count": 25,
   "metadata": {},
   "outputs": [
    {
     "name": "stdout",
     "output_type": "stream",
     "text": [
      "[NbConvertApp] Converting notebook HW2.ipynb to html\n",
      "[NbConvertApp] Writing 292276 bytes to HW2.html\n"
     ]
    }
   ],
   "source": [
    "# # export notebook results to html\n",
    "!jupyter nbconvert --to html HW2.ipynb"
   ]
  }
 ],
 "metadata": {
  "kernelspec": {
   "display_name": "venv",
   "language": "python",
   "name": "python3"
  },
  "language_info": {
   "codemirror_mode": {
    "name": "ipython",
    "version": 3
   },
   "file_extension": ".py",
   "mimetype": "text/x-python",
   "name": "python",
   "nbconvert_exporter": "python",
   "pygments_lexer": "ipython3",
   "version": "3.9.7"
  }
 },
 "nbformat": 4,
 "nbformat_minor": 2
}
